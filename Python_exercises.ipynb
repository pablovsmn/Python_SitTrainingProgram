{
 "cells": [
  {
   "cell_type": "markdown",
   "metadata": {},
   "source": [
    "# Exercises\n",
    "---"
   ]
  },
  {
   "cell_type": "markdown",
   "metadata": {},
   "source": [
    "**Exercise 1**: Can you create a function that identifies the variant position between these two DNA sequences of the same length? \n",
    "\n",
    "Sequence 1: CGATCGATGCTAGCTCGACCGAGTCGCTAGCTAC <br>\n",
    "Sequence 2: CGATCGATGCTAGCTTGACCGAGGCGCTAGCTGC <br>\n",
    "\n",
    "Report the results in the following manner:\n",
    "\n",
    "...AGTCATG**[A/T]**GTCA..."
   ]
  },
  {
   "cell_type": "code",
   "execution_count": null,
   "metadata": {},
   "outputs": [],
   "source": [
    "sequece1 = 'CGATCGATGCTAGCTCGACCGAGTCGCTAGCTAC' ## store input object in variable\n",
    "sequece2 = 'CGATCGATGCTAGCTTGACCGAGGCGCTAGCTGC' ## store input object in variable\n",
    "\n",
    "def variant1(seq1, seq2):\n",
    "    seqResult = \"\" ## initialize an empty string variable\n",
    "    for i in range(len(seq1)): ## iterate over the indexes of the positions in sequence1 (or sequence2, doesn't matter)\n",
    "        if seq1[i] != seq2[i]: ## check if alleles in the current position (i) are different in sequence1 and sequence2\n",
    "            seqResult = seqResult + \"[\"+seq1[i]+\"/\"+seq2[i]+\"]\" ## if they are different create the \"variation string\" with the two alleles and extend the seqResult string\n",
    "        else: ## if they are actually equal, extend the seqResult string with the current allele\n",
    "            seqResult = seqResult + seq1[i]\n",
    "    return(seqResult) ## return output string\n",
    "\n",
    "result = variant1(sequece1, sequece2)\n",
    "print(result)"
   ]
  },
  {
   "cell_type": "markdown",
   "metadata": {},
   "source": [
    "**Exercise 2** Write a function that counts the number of occurrences of a certain subsequence (e. \"ACGT\") in a longer sequence.\n",
    "\n",
    "Sequence 1: CGATCGATGCTAGCTCGACCGAGTCGCTAGCTAC <br>\n",
    "\n",
    "**Hints:**\n",
    "\n",
    "1. Here we want to count ocurrences, which means that as output we want an integer (number). How to initialize a variable that store integers?\n",
    "1. We already know how to \"travel\" through an iterable (sequences), and compare the individual elements of two different sequences. Here instead of taking individual elements from a sequence, we want to take **chunks** of that sequence (subsequences).\n",
    "2. The comparison here is between all the possible chunks (subsequences) of the Sequence 1 and the given subsequence (\"ACGT\") that we want to test."
   ]
  },
  {
   "cell_type": "code",
   "execution_count": null,
   "metadata": {},
   "outputs": [],
   "source": []
  },
  {
   "cell_type": "markdown",
   "metadata": {},
   "source": [
    "This is another way to implement the previous function. However, in this version we have introduced different checkings that control for the type of input we introduce. "
   ]
  },
  {
   "cell_type": "code",
   "execution_count": null,
   "metadata": {},
   "outputs": [],
   "source": []
  },
  {
   "cell_type": "markdown",
   "metadata": {},
   "source": [
    "**Exercise 3** Write a function that recieves as input argument a sequence (string) and creates, as output object, a dictionary with the frequencies of the characters (nucleotides) of that sequence.\n",
    "\n",
    "Sequence 1: CGATCGATGCTAGCTCGACCGAGTCGCTAGCTAC <br>\n",
    "\n",
    "**Hints:**\n",
    "\n",
    "1. Remember that a function that creates a new object (variable to store the result) needs to initialize first such object, in this case a dictionary.\n",
    "2. Remember that we can convert a string into a list by using the function `list`\n",
    "3. The way of obtaining the unique elements within a list is with the function `set`.\n",
    "4. The way of counting the number of ocurrences of a certain character within a sequence or list is with the function `count`\n",
    "4. Remember that you can go through iterables (such as sequences or lists) by using a loop.\n",
    "5. Remember that the elements of a dictionary are pairs \"key:value\". Check the syntax to see how to introduce them in a growing dictionary."
   ]
  },
  {
   "cell_type": "code",
   "execution_count": null,
   "metadata": {},
   "outputs": [],
   "source": []
  },
  {
   "cell_type": "markdown",
   "metadata": {},
   "source": [
    "**Exercise 4** Write a function that generates a password of 10 characters and meets the following conditions:\n",
    "\n",
    "1. The password must contain at least 5 letters (a to z)\n",
    "2. The password must contain at least 3 numbers (0 to 9)\n",
    "3. The password must contain at least 2 special characters from (&, %, @)\n",
    "\n",
    "**Hints:**\n",
    "\n",
    "1. The password can be created by using sub-lists of the different elements that we need to incorporate. These sub-lists can be created by selecting at random the requiered elements.\n",
    "2. Remember that in order to use random generators we have to import the library *random*. Functions like `sample`, `choice`, `choices` are used to generate lists of random numbers and choose by random element/elements from lists, respectively. Try to use google to check the functions contained in *random* library.\n",
    "3. If you don't need to introduce any argument in the function just leave the arguments empty. (example: `def function1()`)"
   ]
  },
  {
   "cell_type": "code",
   "execution_count": null,
   "metadata": {},
   "outputs": [],
   "source": []
  },
  {
   "cell_type": "markdown",
   "metadata": {},
   "source": [
    "**Exercise 5** Given a **sorted** list of numbers *test_list*, try to find the index of a certain number *test_number* within that list. Now, this seems to be easy, since there are built-in functions in Python that actually do this, however in this case we are going to make use of a binary search algorithm (methodology of [**divide and conquer**](https://en.wikipedia.org/wiki/Divide-and-conquer_algorithm)).\n",
    "\n",
    "**Hints:**\n",
    "\n",
    "1. Remember that we try to find if our number is higher or lower than the middle number of the list.\n",
    "2. Each time we compare our number with the middle number, if they are not equal, we must choose between the upper/lower half of the list.\n",
    "3. Since each time we are shortening the original list, we must take care that the extreme indexes are first <= last\n",
    "4. When shortening the lists, we can update the extreme indexes as follows:\n",
    "    1. If our number is lower than the middle number: `last = mid - 1`\n",
    "    2. Else (our number is higher than the middle number): `first = mid + 1`\n"
   ]
  },
  {
   "cell_type": "code",
   "execution_count": null,
   "metadata": {},
   "outputs": [],
   "source": []
  },
  {
   "cell_type": "code",
   "execution_count": null,
   "metadata": {},
   "outputs": [],
   "source": []
  }
 ],
 "metadata": {
  "kernelspec": {
   "display_name": "Python 3",
   "language": "python",
   "name": "python3"
  },
  "language_info": {
   "codemirror_mode": {
    "name": "ipython",
    "version": 3
   },
   "file_extension": ".py",
   "mimetype": "text/x-python",
   "name": "python",
   "nbconvert_exporter": "python",
   "pygments_lexer": "ipython3",
   "version": "3.6.5"
  },
  "latex_envs": {
   "LaTeX_envs_menu_present": true,
   "autoclose": false,
   "autocomplete": true,
   "bibliofile": "biblio.bib",
   "cite_by": "apalike",
   "current_citInitial": 1,
   "eqLabelWithNumbers": true,
   "eqNumInitial": 1,
   "hotkeys": {
    "equation": "Ctrl-E",
    "itemize": "Ctrl-I"
   },
   "labels_anchors": false,
   "latex_user_defs": false,
   "report_style_numbering": false,
   "user_envs_cfg": false
  },
  "toc": {
   "base_numbering": 1,
   "nav_menu": {},
   "number_sections": true,
   "sideBar": true,
   "skip_h1_title": false,
   "title_cell": "Table of Contents",
   "title_sidebar": "Contents",
   "toc_cell": false,
   "toc_position": {},
   "toc_section_display": true,
   "toc_window_display": false
  }
 },
 "nbformat": 4,
 "nbformat_minor": 2
}
