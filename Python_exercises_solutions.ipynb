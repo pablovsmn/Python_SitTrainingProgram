{
 "cells": [
  {
   "cell_type": "markdown",
   "metadata": {},
   "source": [
    "# Exercises\n",
    "---"
   ]
  },
  {
   "cell_type": "markdown",
   "metadata": {},
   "source": [
    "**Exercise 1**: Can you create a function that identifies the variant position between these two DNA sequences of the same length? \n",
    "\n",
    "Sequence 1: CGATCGATGCTAGCTCGACCGAGTCGCTAGCTAC <br>\n",
    "Sequence 2: CGATCGATGCTAGCTTGACCGAGGCGCTAGCTGC <br>\n",
    "\n",
    "Report the results in the following manner:\n",
    "\n",
    "...AGTCATG**[A/T]**GTCA..."
   ]
  },
  {
   "cell_type": "code",
   "execution_count": null,
   "metadata": {},
   "outputs": [],
   "source": [
    "sequece1 = 'CGATCGATGCTAGCTCGACCGAGTCGCTAGCTAC' ## store input object in variable\n",
    "sequece2 = 'CGATCGATGCTAGCTTGACCGAGGCGCTAGCTGC' ## store input object in variable\n",
    "\n",
    "def variant1(seq1, seq2):\n",
    "    seqResult = \"\" ## initialize an empty string variable\n",
    "    for i in range(len(seq1)): ## iterate over the indexes of the positions in sequence1 (or sequence2, doesn't matter)\n",
    "        if seq1[i] != seq2[i]: ## check if alleles in the current position (i) are different in sequence1 and sequence2\n",
    "            seqResult = seqResult + \"[\"+seq1[i]+\"/\"+seq2[i]+\"]\" ## if they are different create the \"variation string\" with the two alleles and extend the seqResult string\n",
    "        else: ## if they are actually equal, extend the seqResult string with the current allele\n",
    "            seqResult = seqResult + seq1[i]\n",
    "    return(seqResult) ## return output string\n",
    "\n",
    "result = variant1(sequece1, sequece2)\n",
    "print(result)"
   ]
  },
  {
   "cell_type": "markdown",
   "metadata": {},
   "source": [
    "**Exercise 2** Write a function that counts the number of occurrences of a certain subsequence (e. \"ACGT\") in a longer sequence.\n",
    "\n",
    "Sequence 1: CGATCGATGCTAGCTCGACCGAGTCGCTAGCTAC <br>\n",
    "\n",
    "**Hints:**\n",
    "\n",
    "1. Here we want to count ocurrences, which means that as output we want an integer (number). How to initialize a variable that store integers?\n",
    "1. We already know how to \"travel\" through an iterable (sequences), and compare the individual elements of two different sequences. Here instead of taking individual elements from a sequence, we want to take **chunks** of that sequence (subsequences).\n",
    "2. The comparison here is between all the possible chunks (subsequences) of the Sequence 1 and the given subsequence (\"ACGT\") that we want to test."
   ]
  },
  {
   "cell_type": "code",
   "execution_count": null,
   "metadata": {},
   "outputs": [],
   "source": [
    "sequence1 = \"CGATCGATGCTAGCTCGACCGAGTCGCTAGCTAC\" ## store input object in variable\n",
    "sequence2 = \"CGA\" ## store input object in variable\n",
    "\n",
    "def subseq(seq1, seq2):\n",
    "    n_subseq = 0 ## initialize output variable with 0\n",
    "    for i in range(0,len(seq1)): ## iterate over the indexes of the positions in sequence1\n",
    "        test_subseq = seq1[i:i+len(seq2)] ## extract all posible subsequences of length equal to sequence2 from sequence1\n",
    "        if seq2 == test_subseq: ## test if our subsequence is equal to any of these subsequences from sequence1\n",
    "            n_subseq = n_subseq + 1 ## if they are equal, add 1 to n_subseq variable\n",
    "    return(n_subseq) ## return output integer\n",
    "        \n",
    "result = subseq(sequence1, sequence2)\n",
    "print(result)"
   ]
  },
  {
   "cell_type": "markdown",
   "metadata": {},
   "source": [
    "This is another way to implement the previous function. However, in this version we have introduced different checkings that control for the type of input we introduce. "
   ]
  },
  {
   "cell_type": "code",
   "execution_count": null,
   "metadata": {},
   "outputs": [],
   "source": [
    "sequence1 = \"CGATCGATGCTAGCTCGACCGAGTCGCTAGCTAC\" ## store input object in variable\n",
    "sequence2 = \"TAG\" ## store input object in variable\n",
    "\n",
    "def subseq(seq1, seq2):\n",
    "    check1 = all(elem in [\"A\",\"C\",\"G\",\"T\"] for elem in seq1) ## test if sequence1 contains actual nucleotides\n",
    "    check2 = all(elem in [\"A\",\"C\",\"G\",\"T\"] for elem in seq2) ## test if sequence2 contains actual nucleotides\n",
    "    check3 = len(seq1) > len(seq2) ## test if sequence1 is longer than sequence2\n",
    "    if check1 and check2 and check3: ## test if both sequences are actually DNA sequences\n",
    "        n_subseq = 0 ## initialize output variable with 0\n",
    "        for i in range(0,len(seq1)): ## iterate over all the nucleotides of sequence1\n",
    "            test_subseq = seq1[i:i+len(seq2)] ## extract all posible subsequences of length equal to sequence2 from sequence1\n",
    "            check4 = len(test_subseq) == len(seq2) ## test if these subsequences are comparable (same length)\n",
    "            if check4: \n",
    "                if seq2 == test_subseq: ## test if our subsequence is equal to any of these subsequences from sequence1\n",
    "                    n_subseq = n_subseq + 1 ## if they are equal, add 1 to n_subseq variable\n",
    "            else: ## if the subsequences are not comparable, get out of the loop\n",
    "                break \n",
    "        return(n_subseq) ## return output integer\n",
    "    else:\n",
    "        print(\"Wrong input!\") ## print message if the input arguments are not correct\n",
    "        \n",
    "result = subseq(sequence1, sequence2)\n",
    "print(result)"
   ]
  },
  {
   "cell_type": "markdown",
   "metadata": {},
   "source": [
    "**Exercise 3** Write a function that recieves as input argument a sequence (string) and creates, as output object, a dictionary with the frequencies of the characters (nucleotides) of that sequence.\n",
    "\n",
    "Sequence 1: CGATCGATGCTAGCTCGACCGAGTCGCTAGCTAC <br>\n",
    "\n",
    "**Hints:**\n",
    "\n",
    "1. Remember that a function that creates a new object (variable to store the result) needs to initialize first such object, in this case a dictionary.\n",
    "2. Remember that we can convert a string into a list by using the function `list`\n",
    "3. The way of obtaining the unique elements within a list is with the function `set`.\n",
    "4. The way of counting the number of ocurrences of a certain character within a sequence or list is with the function `count`\n",
    "4. Remember that you can go through iterables (such as sequences or lists) by using a loop.\n",
    "5. Remember that the elements of a dictionary are pairs \"key:value\". Check the syntax to see how to introduce them in a growing dictionary."
   ]
  },
  {
   "cell_type": "code",
   "execution_count": null,
   "metadata": {},
   "outputs": [],
   "source": [
    "seq1 = \"CGATCGATGCTAGCTCGACCGAGTCGCTAGCTAC\" ## store input object in variable\n",
    "\n",
    "def dict_freq(seq1):\n",
    "    dict_result = {} ## create an empty dictionary\n",
    "    nucleotides = list(set(seq1)) ## Obtain unique elements of sequence\n",
    "    seq_length = len(seq1) ## Obtain length of sequence\n",
    "    for i in nucleotides: ## iterate over all the unique elements\n",
    "        n_nucleotides = seq1.count(i) ## Obtain number of EACH element in the sequence\n",
    "        f_nucleotides = n_nucleotides/seq_length ## Obtain frequency of elements in the sequence\n",
    "        dict_result[i] = f_nucleotides ## Store frequency of each element in dictionary\n",
    "    return(dict_result) ## Return output dictionary\n",
    "         \n",
    "result = dict_freq(seq1) ## Store output dictionary in variable\n",
    "print(result)"
   ]
  },
  {
   "cell_type": "markdown",
   "metadata": {},
   "source": [
    "**Exercise 4** Write a function that generates a password of 10 characters and meets the following conditions:\n",
    "\n",
    "1. The password must contain at least 5 letters (a to z)\n",
    "2. The password must contain at least 3 numbers (0 to 9)\n",
    "3. The password must contain at least 2 special characters from (&, %, @)\n",
    "\n",
    "**Hints:**\n",
    "\n",
    "1. The password can be created by using sub-lists of the different elements that we need to incorporate. These sub-lists can be created by selecting at random the requiered elements.\n",
    "2. Remember that in order to use random generators we have to import the library *random*. Functions like `sample`, `choice`, `choices` are used to generate lists of random numbers and choose by random element/elements from lists, respectively. Try to use google to check the functions contained in *random* library.\n",
    "3. If you don't need to introduce any argument in the function just leave the arguments empty. (example: `def function1()`)"
   ]
  },
  {
   "cell_type": "code",
   "execution_count": null,
   "metadata": {},
   "outputs": [],
   "source": [
    "import random\n",
    "\n",
    "def password_generator():\n",
    "    int_rand = random.sample(range(9),3) ## Generate a random list of 3 numbers\n",
    "    let_rand = random.choices(list(\"abcdefghijklmnñopqrstuvwxyz\"), k=5) ## generate a random list of 5 letters\n",
    "    char_rand = random.choices(list(\"&%@\"), k=2) ## generate a random list of 2 special characters\n",
    "    password = int_rand + let_rand + char_rand ## join these three lists in order to obtain the total length of the password\n",
    "    password = [password[i] for i in random.sample(range(10),10)] ## reorder at random the elements of the list\n",
    "    password = [str(i) for i in password] ## convert to strings all the elements of the list\n",
    "    password = ''.join(password) ## join the elements of the list\n",
    "    return(password) ## return string\n",
    "    \n",
    "password_generator()"
   ]
  },
  {
   "cell_type": "markdown",
   "metadata": {},
   "source": [
    "**Exercise 5** Given a **sorted** list of numbers *test_list*, try to find the index of a certain number *test_number* within that list. Now, this seems to be easy, since there are built-in functions in Python that actually do this, however in this case we are going to make use of a binary search algorithm (methodology of [**divide and conquer**](https://en.wikipedia.org/wiki/Divide-and-conquer_algorithm)).\n",
    "\n",
    "**Hints:**\n",
    "\n",
    "1. Remember that we try to find if our number is higher or lower than the middle number of the list.\n",
    "2. Each time we compare our number with the middle number, if they are not equal, we must choose between the upper/lower half of the list.\n",
    "3. Since each time we are shortening the original list, we must take care that the extreme indexes are first <= last\n",
    "4. When shortening the lists, we can update the extreme indexes as follows:\n",
    "    1. If our number is lower than the middle number: `last = mid - 1`\n",
    "    2. Else (our number is higher than the middle number): `first = mid + 1`\n"
   ]
  },
  {
   "cell_type": "code",
   "execution_count": null,
   "metadata": {},
   "outputs": [],
   "source": [
    "test_list = [1,2,3,4,5,6,7,8,9,10,11,12,13,14,15,16,17,18,19,20] ## Store input list in variable\n",
    "test_number = 20 ## Store input value in variable\n",
    "\n",
    "def binarySearch(test_list, test_number):\n",
    "    first = 0 ## Initialize first index \n",
    "    last = len(test_list)-1 ## Initialize last index\n",
    "    index = -1 ## Initialize the index of our number\n",
    "    while (first <= last) and index == -1: ## Conditional loop that iterates only when the first index is lower than the last index and the result index is still -1\n",
    "        mid = (first+last)//2 ## Obtain the index in the middle (important! it must be a non-decimal integer)\n",
    "        if test_list[mid] == test_number: ## Test if the element in the middle is our test_number\n",
    "            index = mid ## If true, replace the value -1 in index variable by the actual index of our element\n",
    "        else: ## If the element in the middle is NOT our test_number\n",
    "            if test_number < test_list[mid]: ## test if our test_number is lower than the element in the middle of the list\n",
    "                last = mid -1 ## if true, then we look for our test_number in the lower half of our list\n",
    "            else:\n",
    "                first = mid +1 ## if false, then we look for our test_number in the upper half of our list\n",
    "    return index ## return index of our number\n",
    "\n",
    "result = binarySearch(test_list, test_number)\n",
    "print(result)"
   ]
  },
  {
   "cell_type": "code",
   "execution_count": null,
   "metadata": {},
   "outputs": [],
   "source": [
    "test_list = [1,2,3,4,5,6,7,8,9,10,11,12,13,14,15,16,17,18,19,20] ## Store input list in variable\n",
    "test_number = 8 ## Store input value in variable\n",
    "\n",
    "def binarySearch(test_list, test_number):\n",
    "    first = 0 ## Initialize first index \n",
    "    last = len(test_list)-1 ## Initialize last index\n",
    "    while (first <= last): ## Conditional loop that iterates only when the first index is lower than the last index and the result index is still -1\n",
    "        mid = (first+last)//2 ## Obtain the index in the middle (important! it must be a non-decimal integer)\n",
    "        if test_list[mid] == test_number: ## Test if the element in the middle is our test_number\n",
    "            index = mid ## If true, replace the value -1 in index variable by the actual index of our element\n",
    "            return(index)\n",
    "        else: ## If the element in the middle is NOT our test_number\n",
    "            if test_number < test_list[mid]: ## test if our test_number is lower than the element in the middle of the list\n",
    "                last = mid -1 ## if true, then we look for our test_number in the lower half of our list\n",
    "            else:\n",
    "                first = mid +1 ## if false, then we look for our test_number in the upper half of our list\n",
    "\n",
    "result = binarySearch(test_list, 6)\n",
    "print(result)"
   ]
  }
 ],
 "metadata": {
  "kernelspec": {
   "display_name": "Python 3",
   "language": "python",
   "name": "python3"
  },
  "language_info": {
   "codemirror_mode": {
    "name": "ipython",
    "version": 3
   },
   "file_extension": ".py",
   "mimetype": "text/x-python",
   "name": "python",
   "nbconvert_exporter": "python",
   "pygments_lexer": "ipython3",
   "version": "3.6.5"
  },
  "latex_envs": {
   "LaTeX_envs_menu_present": true,
   "autoclose": false,
   "autocomplete": true,
   "bibliofile": "biblio.bib",
   "cite_by": "apalike",
   "current_citInitial": 1,
   "eqLabelWithNumbers": true,
   "eqNumInitial": 1,
   "hotkeys": {
    "equation": "Ctrl-E",
    "itemize": "Ctrl-I"
   },
   "labels_anchors": false,
   "latex_user_defs": false,
   "report_style_numbering": false,
   "user_envs_cfg": false
  },
  "toc": {
   "base_numbering": 1,
   "nav_menu": {},
   "number_sections": true,
   "sideBar": true,
   "skip_h1_title": false,
   "title_cell": "Table of Contents",
   "title_sidebar": "Contents",
   "toc_cell": false,
   "toc_position": {},
   "toc_section_display": true,
   "toc_window_display": false
  }
 },
 "nbformat": 4,
 "nbformat_minor": 2
}
