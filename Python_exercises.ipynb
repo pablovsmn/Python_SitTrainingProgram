{
 "cells": [
  {
   "cell_type": "markdown",
   "metadata": {},
   "source": [
    "# Exercises\n",
    "---"
   ]
  },
  {
   "cell_type": "markdown",
   "metadata": {},
   "source": [
    "**Exercise**: Can you create a function that identifies the variant position between these two DNA sequences of the same length? \n",
    "\n",
    "Sequence 1: CGATCGATGCTAGCTCGACCGAGTCGCTAGCTAC <br>\n",
    "Sequence 2: CGATCGATGCTAGCTTGACCGAGGCGCTAGCTGC <br>\n",
    "\n",
    "Report the results in the following manner:\n",
    "\n",
    "...AGTCATG**[A/T]**GTCA..."
   ]
  },
  {
   "cell_type": "code",
   "execution_count": null,
   "metadata": {},
   "outputs": [],
   "source": []
  },
  {
   "cell_type": "markdown",
   "metadata": {},
   "source": [
    "**Exercise** Write a function that counts the number of occurrences of a certain subsequence (e. \"ACGT\") that can be found in a longer sequence.\n",
    "\n",
    "Sequence 1: CGATCGATGCTAGCTCGACCGAGTCGCTAGCTAC <br>"
   ]
  },
  {
   "cell_type": "code",
   "execution_count": 31,
   "metadata": {},
   "outputs": [
    {
     "data": {
      "text/plain": [
       "2"
      ]
     },
     "execution_count": 31,
     "metadata": {},
     "output_type": "execute_result"
    }
   ],
   "source": [
    "sequence1 = \"CGATCGATGCTAGCTCGACCGAGTCGCTAGCTAC\" ## store input object in variable\n",
    "sequence2 = \"CGA\" ## store input object in variable\n",
    "\n",
    "def subseq(seq1, seq2):\n",
    "    n_subseq = 0 ## initialize output variable with 0\n",
    "    for i in range(0,len(seq1)): ## iterate over all the nucleotides of sequence1\n",
    "        test_subseq = seq1[i:i+4] ## extract all posible subsequences of length equal to sequence2 from sequence1\n",
    "        if seq2 == test_subseq: ## test if our subsequence is equal to any of these subsequences from sequence1\n",
    "            n_subseq = n_subseq + 1 ## if they are equal, add 1 to n_subseq variable\n",
    "    return(n_subseq) ## return output object\n",
    "        \n",
    "result = subseq(sequence1, sequence2)"
   ]
  },
  {
   "cell_type": "code",
   "execution_count": 74,
   "metadata": {},
   "outputs": [
    {
     "name": "stdout",
     "output_type": "stream",
     "text": [
      "2\n"
     ]
    }
   ],
   "source": [
    "seq1 = \"CGATCGATGCTAGCTCGACCGAGTCGCTAGCTAC\" ## store input object in variable\n",
    "seq2 = \"TAGC\" ## store input object in variable\n",
    "\n",
    "def subseq(seq1, seq2):\n",
    "    check1 = all(elem in [\"A\",\"C\",\"G\",\"T\"] for elem in seq1) ## test if sequence1 contains actual nucleotides\n",
    "    check2 = all(elem in [\"A\",\"C\",\"G\",\"T\"] for elem in seq2) ## test if sequence2 contains actual nucleotides\n",
    "    check3 = len(seq1) > len(seq2) ## test if sequence1 is longer than sequence2\n",
    "    if check1 and check2 and check3: ## test if both sequences are actually DNA sequences\n",
    "        n_subseq = 0 ## initialize output variable with 0\n",
    "        for i in range(0,len(seq1)): ## iterate over all the nucleotides of sequence1\n",
    "            test_subseq = seq1[i:i+4] ## extract all posible subsequences of length equal to sequence2 from sequence1\n",
    "            check4 = len(test_subseq) == len(seq2) ## test if these subsequences are comparable (same length)\n",
    "            if check4: \n",
    "                if seq2 == test_subseq: ## test if our subsequence is equal to any of these subsequences from sequence1\n",
    "                    n_subseq = n_subseq + 1 ## if they are equal, add 1 to n_subseq variable\n",
    "            else: ## if the subsequences are not comparable, get out of the loop\n",
    "                break \n",
    "        return(n_subseq) ## return output object\n",
    "    else:\n",
    "        print(\"Wrong input!\") ## print message if the input arguments are not correct\n",
    "        \n",
    "result = subseq(seq1, seq2)\n",
    "print(result)"
   ]
  },
  {
   "cell_type": "markdown",
   "metadata": {},
   "source": [
    "**Exercise** Write a function that recieves as input argument a sequence (string) and create, as output object, a dictionary with the frequencies of the characters (nucleotides) of that sequence.\n",
    "\n",
    "Sequence 1: CGATCGATGCTAGCTCGACCGAGTCGCTAGCTAC <br>"
   ]
  },
  {
   "cell_type": "code",
   "execution_count": 29,
   "metadata": {},
   "outputs": [
    {
     "name": "stdout",
     "output_type": "stream",
     "text": [
      "{'T': 0.20588235294117646, 'C': 0.3235294117647059, 'A': 0.20588235294117646, 'G': 0.2647058823529412}\n"
     ]
    }
   ],
   "source": [
    "seq1 = \"CGATCGATGCTAGCTCGACCGAGTCGCTAGCTAC\" ## store input object in variable\n",
    "\n",
    "def dict_freq(seq1):\n",
    "    dict_result = {} ## create an empty dictionary\n",
    "    nucleotides = list(set(seq1)) ## Obtain unique elements of sequence\n",
    "    seq_length = len(seq1) ## Obtain length of sequence\n",
    "    for i in nucleotides: ## iterate over all the unique elements\n",
    "        n_nucleotides = seq1.count(i) ## Obtain number of EACH element in the sequence\n",
    "        f_nucleotides = n_nucleotides/seq_length ## Obtain frequency of elements in the sequence\n",
    "        dict_result[i] = f_nucleotides ## Store frequency of each element in dictionary\n",
    "    return(dict_result) ## Return output object\n",
    "         \n",
    "result = dict_freq(seq1) ## Store output object in variable\n",
    "print(result)"
   ]
  },
  {
   "cell_type": "markdown",
   "metadata": {},
   "source": [
    "**Exercise** Given a sorted list of numbers *test_list*, try to find the index of a certain number *test_number* within that list. Here we are going to make use of a binary search algorithm (methodology of **divide and conquer**).\n"
   ]
  },
  {
   "cell_type": "code",
   "execution_count": 76,
   "metadata": {},
   "outputs": [
    {
     "name": "stdout",
     "output_type": "stream",
     "text": [
      "11\n"
     ]
    }
   ],
   "source": [
    "test_list = [1,2,3,4,5,6,7,8,9,10,11,12,13,14,15,16,17,18,19] ## Store input list in variable\n",
    "test_number = 8 ## Store input value in variable\n",
    "\n",
    "def binarySearch(test_list, test_number):\n",
    "    first = 0 ## Initialize first index \n",
    "    last = len(test_list)-1 ## Initialize last index\n",
    "    index = -1 ## Initialize result index\n",
    "    while (first <= last) and index == -1: ## Conditional loop that iterates only when the first index is lower than the last index and the result index is still -1\n",
    "        mid = (first+last)//2 ## Obtain the index in the middle (important! it must be a non-decimal integer)\n",
    "        if test_list[mid] == test_number: ## Test if the element in the middle is our test_number\n",
    "            index = mid ## If true, replace the value -1 in index variable by the actual index of our element\n",
    "        else: ## If the element in the middle is NOT our test_number\n",
    "            if test_number < test_list[mid]: ## test if our test_number is lower than the element in the middle of the list\n",
    "                last = mid -1 ## if true, then we look for our test_number in the lower half of our list\n",
    "            else:\n",
    "                first = mid +1 ## if false, then we look for our test_number in the upper half of our list\n",
    "    return index ## return output index\n",
    "\n",
    "result = binarySearch(test_list, 12)\n",
    "print(result)"
   ]
  }
 ],
 "metadata": {
  "kernelspec": {
   "display_name": "Python 3",
   "language": "python",
   "name": "python3"
  },
  "language_info": {
   "codemirror_mode": {
    "name": "ipython",
    "version": 3
   },
   "file_extension": ".py",
   "mimetype": "text/x-python",
   "name": "python",
   "nbconvert_exporter": "python",
   "pygments_lexer": "ipython3",
   "version": "3.7.3"
  },
  "latex_envs": {
   "LaTeX_envs_menu_present": true,
   "autoclose": false,
   "autocomplete": true,
   "bibliofile": "biblio.bib",
   "cite_by": "apalike",
   "current_citInitial": 1,
   "eqLabelWithNumbers": true,
   "eqNumInitial": 1,
   "hotkeys": {
    "equation": "Ctrl-E",
    "itemize": "Ctrl-I"
   },
   "labels_anchors": false,
   "latex_user_defs": false,
   "report_style_numbering": false,
   "user_envs_cfg": false
  },
  "toc": {
   "base_numbering": 1,
   "nav_menu": {},
   "number_sections": true,
   "sideBar": true,
   "skip_h1_title": false,
   "title_cell": "Table of Contents",
   "title_sidebar": "Contents",
   "toc_cell": false,
   "toc_position": {},
   "toc_section_display": true,
   "toc_window_display": false
  }
 },
 "nbformat": 4,
 "nbformat_minor": 2
}
